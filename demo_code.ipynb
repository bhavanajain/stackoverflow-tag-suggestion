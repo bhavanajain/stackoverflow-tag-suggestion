{
 "cells": [
  {
   "cell_type": "markdown",
   "metadata": {},
   "source": [
    "\n",
    "# TASK: Create a set containing all tags\n",
    " "
   ]
  },
  {
   "cell_type": "code",
   "execution_count": 115,
   "metadata": {
    "collapsed": true
   },
   "outputs": [],
   "source": [
    "\"\"\"\n",
    "A generator that yields a chunk of dataset file using the specified delimiter\n",
    "\"\"\"\n",
    "\n",
    "def myreadlines(f, delimiter):\n",
    "  buf = \"\"\n",
    "  while True:\n",
    "    while delimiter in buf:\n",
    "      pos = buf.index(delimiter)\n",
    "      yield buf[:pos]\n",
    "      buf = buf[pos + len(delimiter):]\n",
    "    chunk = f.read(4096)\n",
    "    if not chunk:\n",
    "      yield buf\n",
    "      break\n",
    "    buf += chunk"
   ]
  },
  {
   "cell_type": "code",
   "execution_count": 116,
   "metadata": {
    "collapsed": true
   },
   "outputs": [],
   "source": [
    "question_delimiter = \"\\n|||||\\n\"\n",
    "category_delimiter = \"\\n;;;;;\\n\""
   ]
  },
  {
   "cell_type": "code",
   "execution_count": 117,
   "metadata": {},
   "outputs": [],
   "source": [
    "\"\"\"\n",
    "Create a dictionary of tags with key = tag name and value = number of occurrences\n",
    "\"\"\"\n",
    "\n",
    "curr_tags = \"\"\n",
    "tags_occur = {}\n",
    "\n",
    "with open('dataset.txt', 'r') as f:\n",
    "  for post in myreadlines(f, question_delimiter):\n",
    "    categories = post.split(category_delimiter)\n",
    "    if len(categories) > 1:\n",
    "        count += 1\n",
    "        curr_tags = categories[1].lower()\n",
    "        for tag in curr_tags.split(\" \"):\n",
    "            if tag not in tags_occur:\n",
    "                tags_occur[tag] = 0 \n",
    "            tags_occur[tag] += 1\n",
    "\n",
    "# Remove the bottom 10% from the tags dictionary\n",
    "tags_count = sorted(set(tags_occur.values()), reverse=True)\n",
    "req_idx = int(0.9 * len(tags_count))\n",
    "min_count = tags_count[req_idx]\n",
    "\n",
    "tags_occur = {k: v for k, v in tags_occur.items() if v > min_count}"
   ]
  },
  {
   "cell_type": "code",
   "execution_count": 118,
   "metadata": {},
   "outputs": [],
   "source": [
    "from bs4 import BeautifulSoup\n",
    "import re\n",
    "\n",
    "question_body = \"\"\n",
    "\n",
    "total_prec = 0.0\n",
    "total_recall = 0.0\n",
    "curr_prec = 0.0\n",
    "curr_recall = 0.0\n",
    "total_posts = 0\n",
    "\n",
    "with open('dataset.txt') as f:\n",
    "  for post in myreadlines(f, question_delimiter):\n",
    "    categories = post.split(category_delimiter)\n",
    "    if len(categories) > 1:\n",
    "        given_tags = set(categories[1].lower().split(\" \")) # Ground truth\n",
    "        question_body = categories[2]\n",
    "\n",
    "        soup = BeautifulSoup(question_body, 'html.parser')\n",
    "\n",
    "        # Remove all tags with a class or id containing the word snippet \n",
    "        # Later use these snippets to predict the programming language ^_^\n",
    "        for snippet_tag in soup.find_all(attrs={'class': re.compile('snippet')}):\n",
    "            snippet_tag.decompose()\n",
    "        for snippet_tag in soup.find_all(attrs={'id': re.compile('snippet')}):\n",
    "            snippet_tag.decompose()\n",
    "\n",
    "        # Remove all the <pre> ... </pre> tags\n",
    "        for extra in soup('pre'):\n",
    "            extra.extract()\n",
    "\n",
    "        tokens = soup.get_text().lower().split()\n",
    "\n",
    "        tmp_tags = {}\n",
    "        predicted_tags = []\n",
    "        for token in tokens:\n",
    "            # Remove ['.', '?', ',', '!', ':'] at the end of a token\n",
    "            if token[-1] in ['.', '?', ',', '!', ':']:\n",
    "                token = token[:-1]\n",
    "            if token in tags_occur:\n",
    "                tmp_tags[token] = tags_occur[token]\n",
    "        if (len(tmp_tags) > 5):\n",
    "            predicted_tags = set([tag for tag in (sorted(tmp_tags, key=tmp_tags.get, reverse=True)[:5])])\n",
    "        else:\n",
    "            predicted_tags = set(tmp_tags.keys())\n",
    "        common = given_tags.intersection(predicted_tags)\n",
    "        if len(predicted_tags):\n",
    "            curr_prec = ((len(common) * 1.0)/len(predicted_tags))\n",
    "        else:\n",
    "            curr_prec = 0\n",
    "        if len(given_tags):\n",
    "            curr_recall = ((len(common) * 1.0)/len(given_tags))\n",
    "        else:\n",
    "            curr_recall = 0\n",
    "        total_prec += curr_prec\n",
    "        total_recall += curr_recall\n",
    "        total_posts += 1\n",
    "        \n",
    "    \n"
   ]
  },
  {
   "cell_type": "markdown",
   "metadata": {},
   "source": [
    "# Predicted Tags = set of top-5 tokens present in 10% trimmed tags dictionary"
   ]
  },
  {
   "cell_type": "code",
   "execution_count": 119,
   "metadata": {},
   "outputs": [
    {
     "name": "stdout",
     "output_type": "stream",
     "text": [
      "Total precision:  2721.9833333333368\n",
      "Total recall:  2292.0166666666655\n",
      "Total posts:  7664\n",
      "Average precision:  0.3551648399443289\n",
      "Average recall:  0.29906271746694485\n"
     ]
    }
   ],
   "source": [
    "print ('Total precision: ', total_prec)\n",
    "print ('Total recall: ', total_recall)\n",
    "print ('Total posts: ', total_posts)\n",
    "avg_prec = (total_prec / total_posts)\n",
    "avg_recall = (total_recall / total_posts)\n",
    "print ('Average precision: ', avg_prec)\n",
    "print ('Average recall: ', avg_recall)"
   ]
  },
  {
   "cell_type": "code",
   "execution_count": null,
   "metadata": {
    "collapsed": true
   },
   "outputs": [],
   "source": [
    "    "
   ]
  }
 ],
 "metadata": {
  "kernelspec": {
   "display_name": "Python 3",
   "language": "python",
   "name": "python3"
  },
  "language_info": {
   "codemirror_mode": {
    "name": "ipython",
    "version": 3
   },
   "file_extension": ".py",
   "mimetype": "text/x-python",
   "name": "python",
   "nbconvert_exporter": "python",
   "pygments_lexer": "ipython3",
   "version": "3.6.2"
  }
 },
 "nbformat": 4,
 "nbformat_minor": 2
}
