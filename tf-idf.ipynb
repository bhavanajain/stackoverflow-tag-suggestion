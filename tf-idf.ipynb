{
 "cells": [
  {
   "cell_type": "code",
   "execution_count": 1,
   "metadata": {
    "collapsed": true
   },
   "outputs": [],
   "source": [
    "\"\"\"\n",
    "A generator that yields a chunk of dataset file using the specified delimiter\n",
    "\"\"\"\n",
    "\n",
    "def myreadlines(f, delimiter):\n",
    "  buf = \"\"\n",
    "  while True:\n",
    "    while delimiter in buf:\n",
    "      pos = buf.index(delimiter)\n",
    "      yield buf[:pos]\n",
    "      buf = buf[pos + len(delimiter):]\n",
    "    chunk = f.read(4096)\n",
    "    if not chunk:\n",
    "      yield buf\n",
    "      break\n",
    "    buf += chunk"
   ]
  },
  {
   "cell_type": "code",
   "execution_count": 2,
   "metadata": {
    "collapsed": true
   },
   "outputs": [],
   "source": [
    "question_delimiter = \"\\n|||||\\n\"\n",
    "category_delimiter = \"\\n;;;;;\\n\""
   ]
  },
  {
   "cell_type": "code",
   "execution_count": 3,
   "metadata": {},
   "outputs": [
    {
     "name": "stdout",
     "output_type": "stream",
     "text": [
      "{'.net': 0, 'math': 1, 'com': 2, 'vb6': 3, 'c#': 4, 'datetime': 5, 'html': 6, 'winforms': 7, 'linux': 8, 'winapi': 9, 'visual-c++': 10, 'unix': 11, 'email': 12, 'objective-c': 13, 'scripting': 14, 'compiler-construction': 15, 'svn': 16, 'tortoisesvn': 17, 'mysql': 18, 'sql-server': 19, 'sql-server-2005': 20, 'database': 21, 'c': 22, 'c++': 23, 'windows': 24, 'version-control': 25, 'apache': 26, 'javascript': 27, 'browser': 28, 'php': 29, 'arrays': 30, 'performance': 31, 'algorithm': 32, 'language-agnostic': 33, 'java': 34, 'oop': 35, 'linq': 36, '.net-3.5': 37, 'sockets': 38, 'flex': 39, 'actionscript-3': 40, 'sql': 41, 'oracle': 42, 'asp.net': 43, 'xml': 44, 'plugins': 45, 'architecture': 46, 'string': 47, 'cross-platform': 48, 'python': 49, 'ruby': 50, 'internet-explorer': 51, 'windows-mobile': 52, 'ruby-on-rails': 53, 'http': 54, 'osx': 55, 'web-services': 56, 'data-binding': 57, 'search': 58, 'logging': 59, 'css': 60, 'eclipse': 61, 'generics': 62, 'versioning': 63, 'vb.net': 64, 'security': 65, 'internationalization': 66, 'reflection': 67, 'encryption': 68, 'unit-testing': 69, 'testing': 70, 'exception': 71, 'visual-studio': 72, 'authentication': 73, 'regex': 74, 'installation': 75, 'opengl': 76, 'debugging': 77, 'unicode': 78, 'asp-classic': 79, 'date': 80, 'image': 81, 'postgresql': 82, 'multithreading': 83, 'memory': 84, 'deployment': 85, 'indexing': 86, 'django': 87, 'xslt': 88, 'documentation': 89, 'flash': 90, 'msbuild': 91, 'cruisecontrol.net': 92, 'git': 93, 'iis': 94, 'wpf': 95, 'silverlight': 96, 'parsing': 97, 'glossary': 98, 'data-structures': 99, 'syntax': 100, 'collections': 101, 'validation': 102, 'ajax': 103, 'web-applications': 104, 'io': 105, 'iphone': 106, 'audio': 107, 'vim': 108, 'emacs': 109, 'editor': 110, 'file': 111, 'open-source': 112, 'design': 113, 'nhibernate': 114, 'orm': 115, 'build-process': 116, 'shell': 117, 'command-line': 118, 'design-patterns': 119, 'model-view-controller': 120, 'user-interface': 121, 'optimization': 122, 'frameworks': 123, 'tdd': 124, '.net-2.0': 125, 'delphi': 126, 'asp.net-mvc': 127, 'stored-procedures': 128, 'build-automation': 129, 'linq-to-sql': 130, 'functional-programming': 131, 'asp.net-ajax': 132, 'ado.net': 133, 'database-design': 134, 'visual-studio-2008': 135, 'perl': 136, 'user-controls': 137, 'templates': 138, 'video': 139, 'ide': 140, 'powershell': 141, 'excel': 142, 'bash': 143, 'virtualization': 144, 'caching': 145, 'ssl': 146, 'sharepoint': 147, 'installer': 148, 'tsql': 149, 'wcf': 150, 'firefox': 151, 'dom': 152, 'visual-studio-2005': 153, 'mfc': 154, 'tfs': 155, 'configuration': 156, 'hardware': 157, 'windows-vista': 158, 'events': 159, 'jquery': 160, 'networking': 161, 'windows-xp': 162, 'forms': 163, 'reporting-services': 164, 'ms-access': 165, 'cocoa': 166, 'compact-framework': 167, 'serialization': 168, 'graphics': 169, 'api': 170, 'coding-style': 171, 'soap': 172, 'project-management': 173}\n"
     ]
    }
   ],
   "source": [
    "\"\"\"\n",
    "Create a dictionary of tags with key = tag name and value = number of occurrences\n",
    "\"\"\"\n",
    "\n",
    "curr_tags = \"\"\n",
    "tags_occur = {}\n",
    "\n",
    "with open('10000_ids_dataset.txt', 'r') as f:\n",
    "  for post in myreadlines(f, question_delimiter):\n",
    "    categories = post.split(category_delimiter)\n",
    "    if len(categories) > 2:\n",
    "        curr_tags = categories[1].lower()\n",
    "        for tag in curr_tags.split(\" \"):\n",
    "            if tag not in tags_occur:\n",
    "                tags_occur[tag] = 0 \n",
    "            tags_occur[tag] += 1\n",
    "\n",
    "tags_count = sorted(set(tags_occur.values()), reverse=True)\n",
    "req_idx = int(0.80 * len(tags_count))\n",
    "min_count = tags_count[req_idx]\n",
    "top_tags = [k for k, v in tags_occur.items() if v > min_count]\n",
    "tags_map = {k : i for (i, k) in enumerate(top_tags)}\n",
    "print (tags_map)"
   ]
  },
  {
   "cell_type": "code",
   "execution_count": 4,
   "metadata": {},
   "outputs": [],
   "source": [
    "from bs4 import BeautifulSoup\n",
    "import re\n",
    "from collections import Counter\n",
    "from nltk.corpus import stopwords\n",
    "from nltk.tokenize import word_tokenize\n",
    "from sklearn.feature_extraction.text import TfidfVectorizer\n",
    "\n",
    "stop_words = stopwords.words('english')\n",
    "question_body = \"\"\n",
    "f_doc = open('processed_docs.txt', 'w')\n",
    "f_labels = open('vec_labels.txt', 'w')\n",
    "X = []\n",
    "Y = []\n",
    "\n",
    "with open('10000_ids_dataset.txt') as f:\n",
    "  for post in myreadlines(f, question_delimiter):\n",
    "    categories = post.split(category_delimiter)\n",
    "    if len(categories) > 2:\n",
    "        given_tags = set(categories[1].lower().split(\" \")) # Ground truth\n",
    "        pruned_tags = [tag for tag in given_tags if tag in top_tags]\n",
    "        if not pruned_tags:\n",
    "            continue\n",
    "        y = [0] * len(top_tags)\n",
    "        for tag in pruned_tags:\n",
    "            y[tags_map[tag]] = 1\n",
    "            \n",
    "        question_body = categories[2]\n",
    "        soup = BeautifulSoup(question_body, 'html.parser')\n",
    "\n",
    "        # Remove all tags with a class or id containing the word snippet \n",
    "        # Later use these snippets to predict the programming language ^_^\n",
    "        for snippet_tag in soup.find_all(attrs={'class': re.compile('snippet')}):\n",
    "            snippet_tag.decompose()\n",
    "        for snippet_tag in soup.find_all(attrs={'id': re.compile('snippet')}):\n",
    "            snippet_tag.decompose()\n",
    "\n",
    "        # Remove all the <pre> ... </pre> tags\n",
    "        for extra in soup('pre'):\n",
    "            extra.extract()\n",
    "\n",
    "        tokens = word_tokenize(soup.get_text().lower())\n",
    "        filtered_tokens = []\n",
    "        for (i, token) in enumerate(tokens):\n",
    "            \n",
    "            # Remove ['.', '?', ',', '!', ':'] at the end of a token\n",
    "            if re.match(re.compile('(\\d+\\.?)+'), token):\n",
    "                continue\n",
    "            if re.match(re.compile('^\\W+$'), token):\n",
    "                continue\n",
    "            while token and token[-1] in ['.', '?', ',', '!', ':', ';', \"'\", '\"']:\n",
    "                token = token[:-1]\n",
    "            if token not in stop_words and len(token) > 2:\n",
    "                filtered_tokens.append(token)\n",
    "        \n",
    "        processed_body = ' '.join(filtered_tokens)\n",
    "        f_doc.write(processed_body + '\\n')\n",
    "        f_doc.flush()\n",
    "        f_labels.write(' '.join(list(map(str, y))) + '\\n')\n",
    "        f_labels.flush()\n",
    "        X.append(processed_body)\n",
    "        Y.append(y)"
   ]
  },
  {
   "cell_type": "code",
   "execution_count": null,
   "metadata": {
    "collapsed": true
   },
   "outputs": [],
   "source": []
  }
 ],
 "metadata": {
  "kernelspec": {
   "display_name": "Python 3",
   "language": "python",
   "name": "python3"
  },
  "language_info": {
   "codemirror_mode": {
    "name": "ipython",
    "version": 3
   },
   "file_extension": ".py",
   "mimetype": "text/x-python",
   "name": "python",
   "nbconvert_exporter": "python",
   "pygments_lexer": "ipython3",
   "version": "3.6.2"
  }
 },
 "nbformat": 4,
 "nbformat_minor": 2
}
