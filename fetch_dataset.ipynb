{
 "cells": [
  {
   "cell_type": "code",
   "execution_count": 21,
   "metadata": {},
   "outputs": [],
   "source": [
    "import csv\n",
    "\n",
    "# Stores question IDs\n",
    "question_ids = []\n",
    "\n",
    "# Limit on how many question IDs to retrieve\n",
    "num_ids = 10000\n",
    "\n",
    "\"\"\"\n",
    "Our dataset is based on the StackLite dataset released by Stackoverflow on Kaggle.\n",
    "https://www.kaggle.com/stackoverflow/stacklite/data\n",
    "But the original dataset contains deleted items as well. \n",
    "We are only going to consider undeleted posts here.\n",
    "\"\"\"\n",
    "curr_cnt = 0\n",
    "with open('stacklite/questions.csv', 'r') as f:\n",
    "    reader = csv.reader(f)\n",
    "    next(reader)\n",
    "    for row in reader:\n",
    "        question_ids.append(row[0])\n",
    "        curr_cnt += 1\n",
    "        if curr_cnt == num_ids:\n",
    "            break      "
   ]
  },
  {
   "cell_type": "code",
   "execution_count": null,
   "metadata": {},
   "outputs": [],
   "source": [
    "\"\"\"\n",
    "Fetch questions tags and body using the obtained question IDs.\n",
    "\"\"\"\n",
    "\n",
    "from stackapi import StackAPI\n",
    "import math\n",
    "\n",
    "datafile = open('dataset.txt', 'w')\n",
    "\n",
    "SITE = StackAPI('stackoverflow')\n",
    "\n",
    "# Number of requests required, each request can process upto 100 IDs\n",
    "num_rounds = math.ceil(len(question_ids)/100)\n",
    "\n",
    "question_delimiter = \"\\n|||||\\n\"\n",
    "category_delimiter = \"\\n;;;;;\\n\"\n",
    "tags_delimiter = \" \"\n",
    "\n",
    "for round_i in range(num_rounds):\n",
    "    start = (round_i*100)\n",
    "    end = min(len(question_ids), (round_i+1)*100)\n",
    "    questions = SITE.fetch('questions', ids=question_ids[start:end], filter='withbody')\n",
    "    \n",
    "    for item in questions['items']:\n",
    "        datafile.write(str(item['question_id']) + category_delimiter)\n",
    "        datafile.write(\" \".join(item['tags']) + category_delimiter)\n",
    "        datafile.write(str(item['body']) + category_delimiter) # [TODO: Remove the code snippet (<pre> tag)]\n",
    "        datafile.write(question_delimiter)"
   ]
  },
  {
   "cell_type": "code",
   "execution_count": null,
   "metadata": {
    "collapsed": true
   },
   "outputs": [],
   "source": []
  }
 ],
 "metadata": {
  "kernelspec": {
   "display_name": "Python 3",
   "language": "python",
   "name": "python3"
  },
  "language_info": {
   "codemirror_mode": {
    "name": "ipython",
    "version": 3
   },
   "file_extension": ".py",
   "mimetype": "text/x-python",
   "name": "python",
   "nbconvert_exporter": "python",
   "pygments_lexer": "ipython3",
   "version": "3.6.2"
  }
 },
 "nbformat": 4,
 "nbformat_minor": 2
}
